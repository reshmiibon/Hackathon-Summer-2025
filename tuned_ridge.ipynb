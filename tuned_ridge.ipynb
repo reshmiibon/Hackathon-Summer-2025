{
 "cells": [
  {
   "cell_type": "code",
   "execution_count": 14,
   "id": "ba4485ac",
   "metadata": {},
   "outputs": [
    {
     "name": "stdout",
     "output_type": "stream",
     "text": [
      "Average best alpha from CV: 7126.3200099999995\n"
     ]
    }
   ],
   "source": [
    "import pandas as pd\n",
    "import numpy as np\n",
    "from sklearn.linear_model import Ridge\n",
    "from sklearn.model_selection import GridSearchCV\n",
    "from sklearn.multioutput import MultiOutputRegressor\n",
    "from sklearn.metrics import mean_squared_error, make_scorer\n",
    "\n",
    "# Load the training set (gene expression data for different perturbations)\n",
    "train_df = pd.read_csv(\"data/train_set.csv\", index_col=0)\n",
    "# Load the test set (perturbations to predict)\n",
    "test_df = pd.read_csv(\"data/test_set.csv\", header=None, names=[\"perturbation\"])\n",
    "\n",
    "# Find columns in the training set that correspond to single-gene perturbations (ending with '+ctrl')\n",
    "single_pert_cols = [col for col in train_df.columns if \"+ctrl\" in col]\n",
    "# Map gene name to its single-gene perturbation column\n",
    "single_gene_map = {col.split(\"+\")[0]: col for col in single_pert_cols}\n",
    "\n",
    "# Training Data\n",
    "X_train, Y_train = [], []\n",
    "\n",
    "# For each double-gene perturbation column, build input and output for training\n",
    "for col in train_df.columns:\n",
    "    if \"+ctrl\" in col:\n",
    "        continue  # skip single-gene columns\n",
    "    genes = col.split(\"+\")\n",
    "    if len(genes) != 2:\n",
    "        continue\n",
    "    gA, gB = genes\n",
    "    # Only use if both genes have single-gene data\n",
    "    if gA in single_gene_map and gB in single_gene_map:\n",
    "        # Get expression profiles for each gene's single-gene perturbation\n",
    "        expr_A = train_df[single_gene_map[gA]].values\n",
    "        expr_B = train_df[single_gene_map[gB]].values\n",
    "        # Concatenate the two profiles to form the input\n",
    "        X_train.append(np.concatenate([expr_A, expr_B]))\n",
    "        # The output is the expression profile for the double-gene perturbation\n",
    "        Y_train.append(train_df[col].values)\n",
    "\n",
    "# Convert lists to numpy arrays for model training\n",
    "X_train = np.array(X_train)\n",
    "Y_train = np.array(Y_train)\n",
    "\n",
    "# Tuning Ridge Regression using Cross-Validation\n",
    "# Define RMSE as the scoring metric (since we are being evaluated by this)\n",
    "def rmse(y_true, y_pred):\n",
    "    return np.sqrt(mean_squared_error(y_true, y_pred))\n",
    "\n",
    "# Use neg RMSE for scoring (since GridSearchCV maximizes the score)\n",
    "scorer = make_scorer(rmse, greater_is_better=False)\n",
    "ridge = Ridge()\n",
    "# Testing with different values of alpha (regularization strength)\n",
    "grid = GridSearchCV(ridge, {\"alpha\": [0.01, 0.1, 1, 10, 100, 200, 500, 10000]}, scoring=scorer, cv=5)\n",
    "# Use MultiOutputRegressor to fit one regressor per output gene\n",
    "multi_grid = MultiOutputRegressor(grid)\n",
    "multi_grid.fit(X_train, Y_train)\n",
    "\n",
    "# Get the best alpha for each output gene and average them\n",
    "best_alphas = [est.best_params_[\"alpha\"] for est in multi_grid.estimators_]\n",
    "best_alpha = np.mean(best_alphas)\n",
    "print(f\"Average best alpha from CV: {best_alpha}\")\n",
    "\n",
    "# Retrain model with best alpha\n",
    "final_model = MultiOutputRegressor(Ridge(alpha=best_alpha))\n",
    "final_model.fit(X_train, Y_train)\n",
    "\n",
    "# Make Predictions\n",
    "predictions = []\n",
    "# For each test perturbation, predict the gene expression profile\n",
    "for perturb in test_df[\"perturbation\"]:\n",
    "    gA, gB = perturb.split(\"+\")\n",
    "\n",
    "    #function to get expression profile for a gene\n",
    "    def get_expr(gene):\n",
    "        if gene in single_gene_map:\n",
    "            # Use single-gene perturbation if available\n",
    "            return train_df[single_gene_map[gene]].values\n",
    "        # Otherwise average all columns where this gene is present\n",
    "        cols = [col for col in train_df.columns if gene in col.split(\"+\")]\n",
    "        return train_df[cols].mean(axis=1).values if cols else np.zeros(train_df.shape[0])\n",
    "\n",
    "    # Build input vector for the model\n",
    "    expr_A = get_expr(gA)\n",
    "    expr_B = get_expr(gB)\n",
    "    input_vec = np.concatenate([expr_A, expr_B]).reshape(1, -1)\n",
    "    # Predict expression for all genes\n",
    "    pred = final_model.predict(input_vec).flatten()\n",
    "\n",
    "    # Store predictions and clip negative values to zero (since gene expressions cant be negative)\n",
    "    for i, gene in enumerate(train_df.index):\n",
    "        predictions.append((gene, perturb, max(0, pred[i])))  # clipping to 0\n",
    "\n",
    "# Save predictions to CSV\n",
    "prediction_df = pd.DataFrame(predictions, columns=[\"gene\", \"perturbation\", \"expression\"])\n",
    "prediction_df.to_csv(\"prediction/prediction.csv\", index=False)\n"
   ]
  },
  {
   "cell_type": "code",
   "execution_count": 15,
   "id": "227d5c31",
   "metadata": {},
   "outputs": [
    {
     "name": "stdout",
     "output_type": "stream",
     "text": [
      "Average CV RMSE: 0.3740\n"
     ]
    }
   ],
   "source": [
    "avg_rmse = np.mean([-est.best_score_ for est in multi_grid.estimators_])\n",
    "print(f\"Average CV RMSE: {avg_rmse:.4f}\")\n"
   ]
  }
 ],
 "metadata": {
  "kernelspec": {
   "display_name": "base",
   "language": "python",
   "name": "python3"
  },
  "language_info": {
   "codemirror_mode": {
    "name": "ipython",
    "version": 3
   },
   "file_extension": ".py",
   "mimetype": "text/x-python",
   "name": "python",
   "nbconvert_exporter": "python",
   "pygments_lexer": "ipython3",
   "version": "3.9.7"
  }
 },
 "nbformat": 4,
 "nbformat_minor": 5
}
